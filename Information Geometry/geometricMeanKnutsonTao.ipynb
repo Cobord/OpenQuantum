{
  "nbformat": 4,
  "nbformat_minor": 0,
  "metadata": {
    "colab": {
      "name": "geometricMeanKnutsonTao.ipynb",
      "version": "0.3.2",
      "provenance": [],
      "collapsed_sections": [],
      "include_colab_link": true
    },
    "kernelspec": {
      "name": "python3",
      "display_name": "Python 3"
    },
    "accelerator": "GPU"
  },
  "cells": [
    {
      "cell_type": "markdown",
      "metadata": {
        "id": "view-in-github",
        "colab_type": "text"
      },
      "source": [
        "<a href=\"https://colab.research.google.com/github/Cobord/Quantum-Computer-Things/blob/master/Information%20Geometry/geometricMeanKnutsonTao.ipynb\" target=\"_parent\"><img src=\"https://colab.research.google.com/assets/colab-badge.svg\" alt=\"Open In Colab\"/></a>"
      ]
    },
    {
      "metadata": {
        "id": "qxp3wJoitV_1",
        "colab_type": "code",
        "colab": {
          "base_uri": "https://localhost:8080/",
          "height": 35
        },
        "outputId": "df4bd7f4-d1cf-4cb0-9f2b-acca2c777c92"
      },
      "cell_type": "code",
      "source": [
        "import tensorflow as tf\n",
        "import timeit\n",
        "import sys\n",
        "device_name = tf.test.gpu_device_name()\n",
        "if device_name != '/device:GPU:0':\n",
        "  raise SystemError('GPU device not found')\n",
        "print('Found GPU at: {}'.format(device_name))\n",
        "config = tf.ConfigProto()\n",
        "config.gpu_options.allow_growth = True"
      ],
      "execution_count": 6,
      "outputs": [
        {
          "output_type": "stream",
          "text": [
            "Found GPU at: /device:GPU:0\n"
          ],
          "name": "stdout"
        }
      ]
    },
    {
      "metadata": {
        "id": "5th8-75Utir4",
        "colab_type": "code",
        "colab": {
          "base_uri": "https://localhost:8080/",
          "height": 146
        },
        "outputId": "5b6bcd28-0ebe-4f23-8ee1-0b1eeef0f0c0"
      },
      "cell_type": "code",
      "source": [
        "eps_default=1e-10\n",
        "matrix_dim_default=500\n",
        "\n",
        "sess = tf.Session(config=config)\n",
        "\n",
        "# Test execution once to detect errors early.\n",
        "try:\n",
        "  sess.run(tf.global_variables_initializer())\n",
        "except tf.errors.InvalidArgumentError:\n",
        "  print(\n",
        "      '\\n\\nThis error most likely means that this notebook is not '\n",
        "      'configured to use a GPU.  Change this in Notebook Settings via the '\n",
        "      'command palette (cmd/ctrl-shift-P) or the Edit menu.\\n\\n')\n",
        "  raise\n",
        "\n",
        "def cpu(matrix_dim=matrix_dim_default,eps=eps_default,to_print=False):\n",
        "  with tf.device('/cpu:0'):\n",
        "    a_matrix_helperC = tf.random_normal((matrix_dim, matrix_dim))\n",
        "    a_matrixC=tf.matmul(tf.linalg.adjoint(a_matrix_helperC),a_matrix_helperC)\n",
        "    b_matrix_helperC = tf.random_normal((matrix_dim, matrix_dim))\n",
        "    b_matrixC=tf.matmul(tf.linalg.adjoint(b_matrix_helperC),b_matrix_helperC)\n",
        "    matC=tf.matmul(tf.linalg.inv(a_matrixC),b_matrixC)\n",
        "    sC, uC, vC = tf.svd(matC)\n",
        "    siC = tf.where(tf.less(sC, eps), sC, tf.sqrt(sC))\n",
        "    abgm_helperC=tf.matmul(tf.matmul(uC, tf.diag(siC)), vC, transpose_b=True)\n",
        "    a_b_geometric_meanC=tf.matmul(a_matrixC,abgm_helperC)\n",
        "    all_eigsC=tf.stack([tf.linalg.eigvalsh(a_matrixC),tf.linalg.eigvalsh(b_matrixC),tf.linalg.eigvalsh(a_b_geometric_meanC)])\n",
        "    if(to_print):\n",
        "      print(sess.run(all_eigsC))\n",
        "    else:\n",
        "      sess.run(all_eigsC)\n",
        "  \n",
        "def gpu(matrix_dim=matrix_dim_default,eps=eps_default,to_print=False):\n",
        "  with tf.device('/gpu:0'):\n",
        "    a_matrix_helperG = tf.random_normal((matrix_dim, matrix_dim))\n",
        "    a_matrixG=tf.matmul(tf.linalg.adjoint(a_matrix_helperG),a_matrix_helperG)\n",
        "    b_matrix_helperG = tf.random_normal((matrix_dim, matrix_dim))\n",
        "    b_matrixG=tf.matmul(tf.linalg.adjoint(b_matrix_helperG),b_matrix_helperG)\n",
        "    matG=tf.matmul(tf.linalg.inv(a_matrixG),b_matrixG)\n",
        "    sG, uG, vG = tf.svd(matG)\n",
        "    siG = tf.where(tf.less(sG, eps), sG, tf.sqrt(sG))\n",
        "    abgm_helperG=tf.matmul(tf.matmul(uG, tf.diag(siG)), vG, transpose_b=True)\n",
        "    a_b_geometric_meanG=tf.matmul(a_matrixG,abgm_helperG)\n",
        "    all_eigsG=tf.stack([tf.linalg.eigvalsh(a_matrixG),tf.linalg.eigvalsh(b_matrixG),tf.linalg.eigvalsh(a_b_geometric_meanG)])\n",
        "    if(to_print):\n",
        "      print(sess.run(all_eigsG))\n",
        "    else:\n",
        "      sess.run(all_eigsG)\n",
        "\n",
        "gpu(2,eps_default,True)\n",
        "\n",
        "# Runs the op several times.\n",
        "my_number=10\n",
        "print('Time (s) to compute eigenvalues of A,B and A#B with A and B being %d by %d. Average of %d runs.'%(matrix_dim,matrix_dim,my_number))\n",
        "cpu_time = timeit.timeit('cpu()', number=my_number, setup=\"from __main__ import cpu\")\n",
        "print('CPU (s): %.5f'%(cpu_time/my_number))\n",
        "gpu_time = timeit.timeit('gpu()', number=my_number, setup=\"from __main__ import gpu\")\n",
        "print('GPU (s): %.5f'%(gpu_time/my_number))\n",
        "print('GPU vs CPU: %.5f'%(cpu_time/gpu_time))\n",
        "\n",
        "sess.close()"
      ],
      "execution_count": 16,
      "outputs": [
        {
          "output_type": "stream",
          "text": [
            "[[ 1.0197163e-03  4.8639803e+00]\n",
            " [ 3.3542997e-01  2.9842005e+00]\n",
            " [-5.1122528e-01  1.7666117e+00]]\n",
            "Time (s) to compute eigenvalues of A,B and A#B with A and B being 500 by 500. Average of 10 runs.\n",
            "CPU (s): 0.24732\n",
            "GPU (s): 1.06775\n",
            "GPU vs CPU: 0.23163\n"
          ],
          "name": "stdout"
        }
      ]
    }
  ]
}