{
 "cells": [
  {
   "cell_type": "markdown",
   "metadata": {},
   "source": [
    "Consider the equation\n",
    "\n",
    "\\frac{d^2 x}{dt^2} + 2 \\gamma \\frac{dx}{dt} + \\omega_0^2 x + a x^2 = \\frac{e}{m} E(t)\n",
    "\n",
    "Suppose E has a combination of exponentials e^{i \\omega_j t} for various j. Work to first order in a.\n",
    "At 0'th order in a, no other frequencies show up for x. We just solve for x for each j and get a solution with that frequency.\n",
    "At first order in a, there are effective drivings at frequencies that use linear combinations of pairs from the \\omega_j.\n",
    "\n",
    "Copied https://arxiv.org/ftp/arxiv/papers/1809/1809.00127.pdf equations 33 and 34\n",
    "\n",
    "The plot appears incorrect, check this later"
   ]
  },
  {
   "cell_type": "code",
   "execution_count": 30,
   "metadata": {},
   "outputs": [
    {
     "data": {
      "text/plain": [
       "<matplotlib.legend.Legend at 0x1f81b59d5f8>"
      ]
     },
     "execution_count": 30,
     "metadata": {},
     "output_type": "execute_result"
    },
    {
     "data": {
      "image/png": "[encoded data removed]",
      "text/plain": [
       "<matplotlib.figure.Figure at 0x1f81a0d8860>"
      ]
     },
     "metadata": {},
     "output_type": "display_data"
    }
   ],
   "source": [
    "import matplotlib.pyplot as plt\n",
    "import numpy as np\n",
    "import math\n",
    "def Sellmeier(lambdaVal,isOrdinary=True):\n",
    "    returnVal=0.0\n",
    "    if isOrdinary:\n",
    "        returnVal = 2.27405\n",
    "        returnVal += .0184/(lambdaVal**2-.0179)\n",
    "        returnVal -= .0155*lambdaVal**2\n",
    "    else:\n",
    "        returnVal = 2.3730\n",
    "        returnVal += .0128/(lambdaVal**2-.0156)\n",
    "        returnVal -= .0044*lambdaVal**2\n",
    "    return returnVal\n",
    "def Sellmeier2(lambdaVal,theta=0.0):\n",
    "    n_e = Sellmeier(lambdaVal,False)\n",
    "    n_o = Sellmeier(lambdaVal,True)\n",
    "    returnVal = (n_e**2)*(n_o**2)\n",
    "    returnVal /= (n_e**2*math.cos(theta)**2+n_o**2*math.sin(theta)**2)\n",
    "    return returnVal\n",
    "lambdaVals = np.linspace(.2,1.0,10)\n",
    "theta=np.pi/180.0*31.7\n",
    "n_o = list(map((lambda x: math.sqrt(Sellmeier(x))),lambdaVals))\n",
    "n_e = list(map((lambda x: math.sqrt(Sellmeier(x,False))),lambdaVals))\n",
    "n_theta = list(map((lambda x: math.sqrt(Sellmeier2(x,theta))),lambdaVals))\n",
    "plt.plot(lambdaVals,n_theta,label='n_theta')\n",
    "plt.plot(lambdaVals,n_o,label='n_o')\n",
    "plt.plot(lambdaVals,n_e,label='n_e')\n",
    "plt.legend()"
   ]
  },
  {
   "cell_type": "code",
   "execution_count": null,
   "metadata": {},
   "outputs": [],
   "source": []
  }
 ],
 "metadata": {
  "kernelspec": {
   "display_name": "Python 3",
   "language": "python",
   "name": "python3"
  },
  "language_info": {
   "codemirror_mode": {
    "name": "ipython",
    "version": 3
   },
   "file_extension": ".py",
   "mimetype": "text/x-python",
   "name": "python",
   "nbconvert_exporter": "python",
   "pygments_lexer": "ipython3",
   "version": "3.6.4"
  }
 },
 "nbformat": 4,
 "nbformat_minor": 2
}
