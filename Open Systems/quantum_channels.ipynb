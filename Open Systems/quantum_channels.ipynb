{
  "nbformat": 4,
  "nbformat_minor": 0,
  "metadata": {
    "colab": {
      "name": "quantum_channels.ipynb",
      "version": "0.3.2",
      "provenance": [],
      "collapsed_sections": [],
      "include_colab_link": true
    },
    "kernelspec": {
      "name": "python3",
      "display_name": "Python 3"
    },
    "accelerator": "GPU"
  },
  "cells": [
    {
      "cell_type": "markdown",
      "metadata": {
        "id": "view-in-github",
        "colab_type": "text"
      },
      "source": [
        "<a href=\"https://colab.research.google.com/github/Cobord/Quantum-Computer-Things/blob/master/Open%20Systems/quantum_channels.ipynb\" target=\"_parent\"><img src=\"https://colab.research.google.com/assets/colab-badge.svg\" alt=\"Open In Colab\"/></a>"
      ]
    },
    {
      "metadata": {
        "id": "REh7daTNzAhI",
        "colab_type": "code",
        "outputId": "2fbf1d29-74e9-48ac-fcd0-31acbabf8257",
        "colab": {
          "base_uri": "https://localhost:8080/",
          "height": 35
        }
      },
      "cell_type": "code",
      "source": [
        "import tensorflow as tf\n",
        "device_name = tf.test.gpu_device_name()\n",
        "if device_name != '/device:GPU:0':\n",
        "  raise SystemError('GPU device not found')\n",
        "print('Found GPU at: {}'.format(device_name))"
      ],
      "execution_count": 15,
      "outputs": [
        {
          "output_type": "stream",
          "text": [
            "Found GPU at: /device:GPU:0\n"
          ],
          "name": "stdout"
        }
      ]
    },
    {
      "metadata": {
        "id": "Pw4iu8buzRxz",
        "colab_type": "code",
        "outputId": "b9718287-6601-4224-fc7d-3e94bc073bcc",
        "colab": {
          "base_uri": "https://localhost:8080/",
          "height": 164
        }
      },
      "cell_type": "code",
      "source": [
        "import tensorflow as tf\n",
        "import numpy as np\n",
        "from logging import ERROR\n",
        "import timeit\n",
        "\n",
        "# See https://www.tensorflow.org/tutorials/using_gpu#allowing_gpu_memory_growth\n",
        "config = tf.ConfigProto()\n",
        "config.gpu_options.allow_growth = True\n",
        "\n",
        "num_qubits_default=10\n",
        "matrix_dim_default=2**num_qubits_default\n",
        "lambda_depolarize_default=.1\n",
        "\n",
        "sess = tf.Session(config=config)\n",
        "\n",
        "# Test execution once to detect errors early.\n",
        "try:\n",
        "  sess.run(tf.global_variables_initializer())\n",
        "except tf.errors.InvalidArgumentError:\n",
        "  print(\n",
        "      '\\n\\nThis error most likely means that this notebook is not '\n",
        "      'configured to use a GPU.  Change this in Notebook Settings via the '\n",
        "      'command palette (cmd/ctrl-shift-P) or the Edit menu.\\n\\n')\n",
        "  raise\n",
        "\n",
        "def create_state(matrix_dim):\n",
        "  state_helper = tf.cast(tf.random_normal((matrix_dim, matrix_dim)),dtype=tf.complex64)\n",
        "  state_helper=state_helper+tf.scalar_mul(tf.constant(1.0j,dtype=tf.complex64),tf.cast(tf.random_normal((matrix_dim, matrix_dim)),dtype=tf.complex64))\n",
        "  state=tf.matmul(tf.linalg.adjoint(state_helper),state_helper)\n",
        "  state=state/tf.trace(state)\n",
        "  return state\n",
        "\n",
        "def depolarize_me(state,lambda_depolarize,matrix_dim):\n",
        "  depolarize_change_helper=tf.constant((1-lambda_depolarize)/matrix_dim,dtype=tf.complex64)\n",
        "  tf.logging.set_verbosity(ERROR)\n",
        "  depolarize_change=tf.scalar_mul(depolarize_change_helper,tf.linalg.LinearOperatorIdentity(num_rows=matrix_dim,dtype=tf.complex64).to_dense())\n",
        "  depolarize=tf.scalar_mul(lambda_depolarize,state)+depolarize_change\n",
        "  return depolarize\n",
        "\n",
        "def quantum_channel_me(state,all_krause):\n",
        "  first_op=True\n",
        "  for krause_operator in all_krause:\n",
        "    current_change=tf.matmul(krause_operator,state)\n",
        "    current_change=tf.matmul(current_change,tf.linalg.adjoint(krause_operator))\n",
        "    if first_op:\n",
        "      new_state=current_change\n",
        "      first_op=False\n",
        "    else:\n",
        "      new_state=new_state+current_change\n",
        "  return new_state\n",
        "\n",
        "def cpu_depolarize(matrix_dim=matrix_dim_default,lambda_depolarize=lambda_depolarize_default):\n",
        "  with tf.device('/cpu:0'):\n",
        "    state=create_state(matrix_dim)\n",
        "    depolarizeC=depolarize_me(state,lambda_depolarize,matrix_dim)\n",
        "  sess.run(depolarizeC)\n",
        "  \n",
        "def gpu_depolarize(matrix_dim=matrix_dim_default,lambda_depolarize=lambda_depolarize_default):\n",
        "  with tf.device('/gpu:0'):\n",
        "    state=create_state(matrix_dim)\n",
        "    depolarizeG=depolarize_me(state,lambda_depolarize,matrix_dim)\n",
        "  sess.run(depolarizeG)\n",
        "\n",
        "def gpu_krause_test(prob,to_print=False):\n",
        "  with tf.device('/gpu:0'):\n",
        "    state=create_state(2)\n",
        "    krause_operator_test_zero=tf.constant([[np.sqrt(1-prob),0],[0,np.sqrt(1-prob)]],dtype=tf.complex64)\n",
        "    krause_operator_test_one=tf.constant([[np.sqrt(prob),0],[0,0]],dtype=tf.complex64)\n",
        "    krause_operator_test_two=tf.constant([[0,0],[0,np.sqrt(prob)]],dtype=tf.complex64)\n",
        "    changed_state=quantum_channel_me(state,[krause_operator_test_zero,krause_operator_test_one,krause_operator_test_two])\n",
        "  if(to_print):\n",
        "    print(sess.run(state))\n",
        "    print(sess.run(changed_state))\n",
        "  else:\n",
        "    sess.run(changed_state)\n",
        "  \n",
        "# Runs the op several times.\n",
        "my_number=10\n",
        "print('Time (s) to compute \\rho and \\Delta_\\lambda (\\rho) for %d qubits. Average of %d runs.'%(num_qubits_default,my_number))\n",
        "cpu_time = timeit.timeit('cpu_depolarize()', number=my_number, setup=\"from __main__ import cpu_depolarize\")\n",
        "print('CPU (s): %.5f'%(cpu_time/my_number))\n",
        "gpu_time = timeit.timeit('gpu_depolarize()', number=my_number, setup=\"from __main__ import gpu_depolarize\")\n",
        "print('GPU (s): %.5f'%(gpu_time/my_number))\n",
        "print('GPU vs CPU: %.5f'%(cpu_time/gpu_time))\n",
        "\n",
        "prob=0\n",
        "gpu_krause_test(prob,True)\n",
        "\n",
        "sess.close()"
      ],
      "execution_count": 26,
      "outputs": [
        {
          "output_type": "stream",
          "text": [
            "Time (s) to compute \rho and \\Delta_\\lambda (\rho) for 10 qubits. Average of 10 runs.\n",
            "CPU (s): 0.81507\n",
            "GPU (s): 0.47559\n",
            "GPU vs CPU: 1.71379\n",
            "[[0.62003493+2.3180393e-09j 0.44787133-1.8033318e-01j]\n",
            " [0.44787133+1.8033318e-01j 0.379965  -2.3180393e-09j]]\n",
            "[[ 0.46690476-3.7300665e-10j -0.03672429+3.6880624e-01j]\n",
            " [-0.03672429-3.6880624e-01j  0.53309524+3.7300665e-10j]]\n"
          ],
          "name": "stdout"
        }
      ]
    }
  ]
}