{
  "nbformat": 4,
  "nbformat_minor": 0,
  "metadata": {
    "colab": {
      "name": "depolarization_channel.ipynb",
      "version": "0.3.2",
      "provenance": [],
      "include_colab_link": true
    },
    "kernelspec": {
      "name": "python3",
      "display_name": "Python 3"
    },
    "accelerator": "GPU"
  },
  "cells": [
    {
      "cell_type": "markdown",
      "metadata": {
        "id": "view-in-github",
        "colab_type": "text"
      },
      "source": [
        "<a href=\"https://colab.research.google.com/github/Cobord/Quantum-Computer-Things/blob/master/Open%20Systems/depolarization_channel.ipynb\" target=\"_parent\"><img src=\"https://colab.research.google.com/assets/colab-badge.svg\" alt=\"Open In Colab\"/></a>"
      ]
    },
    {
      "metadata": {
        "id": "REh7daTNzAhI",
        "colab_type": "code",
        "colab": {
          "base_uri": "https://localhost:8080/",
          "height": 35
        },
        "outputId": "e739c994-e21b-47a2-d13c-614d398ec7d5"
      },
      "cell_type": "code",
      "source": [
        "import tensorflow as tf\n",
        "device_name = tf.test.gpu_device_name()\n",
        "if device_name != '/device:GPU:0':\n",
        "  raise SystemError('GPU device not found')\n",
        "print('Found GPU at: {}'.format(device_name))"
      ],
      "execution_count": 1,
      "outputs": [
        {
          "output_type": "stream",
          "text": [
            "Found GPU at: /device:GPU:0\n"
          ],
          "name": "stdout"
        }
      ]
    },
    {
      "metadata": {
        "id": "Pw4iu8buzRxz",
        "colab_type": "code",
        "colab": {
          "base_uri": "https://localhost:8080/",
          "height": 127
        },
        "outputId": "b5a39b68-3bc7-4fa8-c3b7-81808ed6d4c3"
      },
      "cell_type": "code",
      "source": [
        "import tensorflow as tf\n",
        "import timeit\n",
        "\n",
        "# See https://www.tensorflow.org/tutorials/using_gpu#allowing_gpu_memory_growth\n",
        "config = tf.ConfigProto()\n",
        "config.gpu_options.allow_growth = True\n",
        "\n",
        "num_qubits=10\n",
        "matrix_dim=2**num_qubits\n",
        "lambda_depolarize=.1\n",
        "\n",
        "with tf.device('/cpu:0'):\n",
        "  state_helperC = tf.cast(tf.random_normal((matrix_dim, matrix_dim)),dtype=tf.complex64)\n",
        "  state_helperC=state_helperC+tf.scalar_mul(tf.constant(1.0j,dtype=tf.complex64),tf.cast(tf.random_normal((matrix_dim, matrix_dim)),dtype=tf.complex64))\n",
        "  stateC=tf.matmul(tf.linalg.adjoint(state_helperC),state_helperC)\n",
        "  stateC=stateC/tf.trace(stateC)\n",
        "  depolarize_change_helperC=tf.constant((1-lambda_depolarize)/matrix_dim,dtype=tf.complex64)\n",
        "  depolarize_changeC=tf.scalar_mul(depolarize_change_helperC,tf.linalg.LinearOperatorIdentity(num_rows=matrix_dim,dtype=tf.complex64).to_dense())\n",
        "  depolarizeC=tf.scalar_mul(lambda_depolarize,stateC)+depolarize_changeC\n",
        "\n",
        "with tf.device('/gpu:0'):\n",
        "  state_helperG = tf.cast(tf.random_normal((matrix_dim, matrix_dim)),dtype=tf.complex64)\n",
        "  state_helperG=state_helperG+tf.scalar_mul(tf.constant(1.0j,dtype=tf.complex64),tf.cast(tf.random_normal((matrix_dim, matrix_dim)),dtype=tf.complex64))\n",
        "  stateG=tf.matmul(tf.linalg.adjoint(state_helperG),state_helperG)\n",
        "  stateG=stateG/tf.trace(stateG)\n",
        "  depolarize_change_helperG=tf.constant((1-lambda_depolarize)/matrix_dim,dtype=tf.complex64)\n",
        "  depolarize_changeG=tf.scalar_mul(depolarize_change_helperG,tf.linalg.LinearOperatorIdentity(num_rows=matrix_dim,dtype=tf.complex64).to_dense())\n",
        "  depolarizeG=tf.scalar_mul(lambda_depolarize,stateG)+depolarize_changeG\n",
        "  \n",
        "sess = tf.Session(config=config)\n",
        "\n",
        "# Test execution once to detect errors early.\n",
        "try:\n",
        "  sess.run(tf.global_variables_initializer())\n",
        "except tf.errors.InvalidArgumentError:\n",
        "  print(\n",
        "      '\\n\\nThis error most likely means that this notebook is not '\n",
        "      'configured to use a GPU.  Change this in Notebook Settings via the '\n",
        "      'command palette (cmd/ctrl-shift-P) or the Edit menu.\\n\\n')\n",
        "  raise\n",
        "\n",
        "def cpu():\n",
        "  sess.run(depolarizeC)\n",
        "  \n",
        "def gpu():\n",
        "  sess.run(depolarizeG)\n",
        "  \n",
        "# Runs the op several times.\n",
        "my_number=10\n",
        "print('Time (s) to compute \\rho and \\Delta_\\lambda (\\rho) for %d qubits. Average of %d runs.'%(num_qubits,my_number))\n",
        "cpu_time = timeit.timeit('cpu()', number=my_number, setup=\"from __main__ import cpu\")\n",
        "print('CPU (s): %.5f'%(cpu_time/my_number))\n",
        "gpu_time = timeit.timeit('gpu()', number=my_number, setup=\"from __main__ import gpu\")\n",
        "print('GPU (s): %.5f'%(gpu_time/my_number))\n",
        "print('GPU vs CPU: %.5f'%(cpu_time/gpu_time))\n",
        "\n",
        "sess.close()"
      ],
      "execution_count": 20,
      "outputs": [
        {
          "output_type": "stream",
          "text": [
            "WARNING:tensorflow:Using (possibly slow) default implementation of to_dense.  Converts by self.matmul(identity).\n",
            "WARNING:tensorflow:Using (possibly slow) default implementation of to_dense.  Converts by self.matmul(identity).\n",
            "ho) for 10 qubits. Average of 10 runs.\n",
            "CPU (s): 0.31319\n",
            "GPU (s): 0.01439\n",
            "GPU vs CPU: 21.75739\n"
          ],
          "name": "stdout"
        }
      ]
    }
  ]
}